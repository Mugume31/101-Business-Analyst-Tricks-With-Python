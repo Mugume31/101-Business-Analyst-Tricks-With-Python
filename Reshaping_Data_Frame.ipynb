{
 "cells": [
  {
   "cell_type": "markdown",
   "id": "d8fcd990",
   "metadata": {},
   "source": [
    "Reshaping data with the Melt function\n",
    "Scenario: As a business analyst you have been given a data in the wide format and you want to change it to the long format. Using the wide format you cannot see insight like trends and also generate relationships across different variables. Let us examine one scenario\n",
    "\n",
    "NB:I have faced this challenge also in my previous work where we struggled to reshape datasets\n"
   ]
  },
  {
   "cell_type": "code",
   "execution_count": 1,
   "id": "1f208bb7",
   "metadata": {},
   "outputs": [],
   "source": [
    "import pandas as pd "
   ]
  },
  {
   "cell_type": "code",
   "execution_count": 28,
   "id": "39b4f964",
   "metadata": {},
   "outputs": [],
   "source": [
    "df_wide = pd.DataFrame({\"Sales_Representative\":[\"Musa\",\"John\",\"Paul\"],\"1993_Sales\":[0,1000,2500],\"1994_Sales\":[3000,2060,5000],\"1995_sales\":[4100,2400,1200]})"
   ]
  },
  {
   "cell_type": "code",
   "execution_count": 29,
   "id": "095799b9",
   "metadata": {},
   "outputs": [
    {
     "data": {
      "text/html": [
       "<div>\n",
       "<style scoped>\n",
       "    .dataframe tbody tr th:only-of-type {\n",
       "        vertical-align: middle;\n",
       "    }\n",
       "\n",
       "    .dataframe tbody tr th {\n",
       "        vertical-align: top;\n",
       "    }\n",
       "\n",
       "    .dataframe thead th {\n",
       "        text-align: right;\n",
       "    }\n",
       "</style>\n",
       "<table border=\"1\" class=\"dataframe\">\n",
       "  <thead>\n",
       "    <tr style=\"text-align: right;\">\n",
       "      <th></th>\n",
       "      <th>Sales_Representative</th>\n",
       "      <th>1993_Sales</th>\n",
       "      <th>1994_Sales</th>\n",
       "      <th>1995_sales</th>\n",
       "    </tr>\n",
       "  </thead>\n",
       "  <tbody>\n",
       "    <tr>\n",
       "      <th>0</th>\n",
       "      <td>Musa</td>\n",
       "      <td>0</td>\n",
       "      <td>3000</td>\n",
       "      <td>4100</td>\n",
       "    </tr>\n",
       "    <tr>\n",
       "      <th>1</th>\n",
       "      <td>John</td>\n",
       "      <td>1000</td>\n",
       "      <td>2060</td>\n",
       "      <td>2400</td>\n",
       "    </tr>\n",
       "    <tr>\n",
       "      <th>2</th>\n",
       "      <td>Paul</td>\n",
       "      <td>2500</td>\n",
       "      <td>5000</td>\n",
       "      <td>1200</td>\n",
       "    </tr>\n",
       "  </tbody>\n",
       "</table>\n",
       "</div>"
      ],
      "text/plain": [
       "  Sales_Representative  1993_Sales  1994_Sales  1995_sales\n",
       "0                 Musa           0        3000        4100\n",
       "1                 John        1000        2060        2400\n",
       "2                 Paul        2500        5000        1200"
      ]
     },
     "execution_count": 29,
     "metadata": {},
     "output_type": "execute_result"
    }
   ],
   "source": [
    "df_wide #the data set extracted from the company "
   ]
  },
  {
   "cell_type": "markdown",
   "id": "505fa6b6",
   "metadata": {},
   "source": [
    "We just said this format limits youre analysis and we shall change it into the long format.Using the pandas melt function:For more information on this please visit this website https://pandas.pydata.org/docs/reference/api/pandas.melt.html"
   ]
  },
  {
   "cell_type": "code",
   "execution_count": 30,
   "id": "795f8d0a",
   "metadata": {},
   "outputs": [
    {
     "data": {
      "text/html": [
       "<div>\n",
       "<style scoped>\n",
       "    .dataframe tbody tr th:only-of-type {\n",
       "        vertical-align: middle;\n",
       "    }\n",
       "\n",
       "    .dataframe tbody tr th {\n",
       "        vertical-align: top;\n",
       "    }\n",
       "\n",
       "    .dataframe thead th {\n",
       "        text-align: right;\n",
       "    }\n",
       "</style>\n",
       "<table border=\"1\" class=\"dataframe\">\n",
       "  <thead>\n",
       "    <tr style=\"text-align: right;\">\n",
       "      <th></th>\n",
       "      <th>Sales_Representative</th>\n",
       "      <th>Sales_Per_Year</th>\n",
       "      <th>Sales_In_Units</th>\n",
       "    </tr>\n",
       "  </thead>\n",
       "  <tbody>\n",
       "    <tr>\n",
       "      <th>0</th>\n",
       "      <td>Musa</td>\n",
       "      <td>1993_Sales</td>\n",
       "      <td>0</td>\n",
       "    </tr>\n",
       "    <tr>\n",
       "      <th>1</th>\n",
       "      <td>John</td>\n",
       "      <td>1993_Sales</td>\n",
       "      <td>1000</td>\n",
       "    </tr>\n",
       "    <tr>\n",
       "      <th>2</th>\n",
       "      <td>Paul</td>\n",
       "      <td>1993_Sales</td>\n",
       "      <td>2500</td>\n",
       "    </tr>\n",
       "    <tr>\n",
       "      <th>3</th>\n",
       "      <td>Musa</td>\n",
       "      <td>1994_Sales</td>\n",
       "      <td>3000</td>\n",
       "    </tr>\n",
       "    <tr>\n",
       "      <th>4</th>\n",
       "      <td>John</td>\n",
       "      <td>1994_Sales</td>\n",
       "      <td>2060</td>\n",
       "    </tr>\n",
       "    <tr>\n",
       "      <th>5</th>\n",
       "      <td>Paul</td>\n",
       "      <td>1994_Sales</td>\n",
       "      <td>5000</td>\n",
       "    </tr>\n",
       "    <tr>\n",
       "      <th>6</th>\n",
       "      <td>Musa</td>\n",
       "      <td>1995_sales</td>\n",
       "      <td>4100</td>\n",
       "    </tr>\n",
       "    <tr>\n",
       "      <th>7</th>\n",
       "      <td>John</td>\n",
       "      <td>1995_sales</td>\n",
       "      <td>2400</td>\n",
       "    </tr>\n",
       "    <tr>\n",
       "      <th>8</th>\n",
       "      <td>Paul</td>\n",
       "      <td>1995_sales</td>\n",
       "      <td>1200</td>\n",
       "    </tr>\n",
       "  </tbody>\n",
       "</table>\n",
       "</div>"
      ],
      "text/plain": [
       "  Sales_Representative Sales_Per_Year  Sales_In_Units\n",
       "0                 Musa     1993_Sales               0\n",
       "1                 John     1993_Sales            1000\n",
       "2                 Paul     1993_Sales            2500\n",
       "3                 Musa     1994_Sales            3000\n",
       "4                 John     1994_Sales            2060\n",
       "5                 Paul     1994_Sales            5000\n",
       "6                 Musa     1995_sales            4100\n",
       "7                 John     1995_sales            2400\n",
       "8                 Paul     1995_sales            1200"
      ]
     },
     "execution_count": 30,
     "metadata": {},
     "output_type": "execute_result"
    }
   ],
   "source": [
    "df_long=pd.melt(df_wide,id_vars=[\"Sales_Representative\"],var_name=\"Sales_Per_Year\",value_name=\"Sales_In_Units\")\n",
    "\n",
    "df_long"
   ]
  },
  {
   "cell_type": "markdown",
   "id": "253d0afb",
   "metadata": {},
   "source": [
    "You can now see the observations are spread across years , Representatives and the Sales in Units"
   ]
  },
  {
   "cell_type": "code",
   "execution_count": 31,
   "id": "efdbd85e",
   "metadata": {},
   "outputs": [],
   "source": [
    "df_long.sort_values(by=[\"Sales_Representative\"],inplace=True)"
   ]
  },
  {
   "cell_type": "code",
   "execution_count": 32,
   "id": "594cc20c",
   "metadata": {},
   "outputs": [
    {
     "data": {
      "text/html": [
       "<div>\n",
       "<style scoped>\n",
       "    .dataframe tbody tr th:only-of-type {\n",
       "        vertical-align: middle;\n",
       "    }\n",
       "\n",
       "    .dataframe tbody tr th {\n",
       "        vertical-align: top;\n",
       "    }\n",
       "\n",
       "    .dataframe thead th {\n",
       "        text-align: right;\n",
       "    }\n",
       "</style>\n",
       "<table border=\"1\" class=\"dataframe\">\n",
       "  <thead>\n",
       "    <tr style=\"text-align: right;\">\n",
       "      <th></th>\n",
       "      <th>Sales_Representative</th>\n",
       "      <th>Sales_Per_Year</th>\n",
       "      <th>Sales_In_Units</th>\n",
       "    </tr>\n",
       "  </thead>\n",
       "  <tbody>\n",
       "    <tr>\n",
       "      <th>1</th>\n",
       "      <td>John</td>\n",
       "      <td>1993_Sales</td>\n",
       "      <td>1000</td>\n",
       "    </tr>\n",
       "    <tr>\n",
       "      <th>4</th>\n",
       "      <td>John</td>\n",
       "      <td>1994_Sales</td>\n",
       "      <td>2060</td>\n",
       "    </tr>\n",
       "    <tr>\n",
       "      <th>7</th>\n",
       "      <td>John</td>\n",
       "      <td>1995_sales</td>\n",
       "      <td>2400</td>\n",
       "    </tr>\n",
       "    <tr>\n",
       "      <th>0</th>\n",
       "      <td>Musa</td>\n",
       "      <td>1993_Sales</td>\n",
       "      <td>0</td>\n",
       "    </tr>\n",
       "    <tr>\n",
       "      <th>3</th>\n",
       "      <td>Musa</td>\n",
       "      <td>1994_Sales</td>\n",
       "      <td>3000</td>\n",
       "    </tr>\n",
       "    <tr>\n",
       "      <th>6</th>\n",
       "      <td>Musa</td>\n",
       "      <td>1995_sales</td>\n",
       "      <td>4100</td>\n",
       "    </tr>\n",
       "    <tr>\n",
       "      <th>2</th>\n",
       "      <td>Paul</td>\n",
       "      <td>1993_Sales</td>\n",
       "      <td>2500</td>\n",
       "    </tr>\n",
       "    <tr>\n",
       "      <th>5</th>\n",
       "      <td>Paul</td>\n",
       "      <td>1994_Sales</td>\n",
       "      <td>5000</td>\n",
       "    </tr>\n",
       "    <tr>\n",
       "      <th>8</th>\n",
       "      <td>Paul</td>\n",
       "      <td>1995_sales</td>\n",
       "      <td>1200</td>\n",
       "    </tr>\n",
       "  </tbody>\n",
       "</table>\n",
       "</div>"
      ],
      "text/plain": [
       "  Sales_Representative Sales_Per_Year  Sales_In_Units\n",
       "1                 John     1993_Sales            1000\n",
       "4                 John     1994_Sales            2060\n",
       "7                 John     1995_sales            2400\n",
       "0                 Musa     1993_Sales               0\n",
       "3                 Musa     1994_Sales            3000\n",
       "6                 Musa     1995_sales            4100\n",
       "2                 Paul     1993_Sales            2500\n",
       "5                 Paul     1994_Sales            5000\n",
       "8                 Paul     1995_sales            1200"
      ]
     },
     "execution_count": 32,
     "metadata": {},
     "output_type": "execute_result"
    }
   ],
   "source": [
    "df_long #Sorting by Sales representative"
   ]
  },
  {
   "cell_type": "code",
   "execution_count": null,
   "id": "2437fac5",
   "metadata": {},
   "outputs": [],
   "source": []
  }
 ],
 "metadata": {
  "kernelspec": {
   "display_name": "Python 3 (ipykernel)",
   "language": "python",
   "name": "python3"
  },
  "language_info": {
   "codemirror_mode": {
    "name": "ipython",
    "version": 3
   },
   "file_extension": ".py",
   "mimetype": "text/x-python",
   "name": "python",
   "nbconvert_exporter": "python",
   "pygments_lexer": "ipython3",
   "version": "3.10.0"
  }
 },
 "nbformat": 4,
 "nbformat_minor": 5
}
